{
 "cells": [
  {
   "cell_type": "markdown",
   "metadata": {},
   "source": [
    "Exemple d'utilisation (cas d'exmple 8 (CSS) de l'article):"
   ]
  },
  {
   "cell_type": "code",
   "execution_count": null,
   "metadata": {},
   "outputs": [
    {
     "ename": "",
     "evalue": "",
     "output_type": "error",
     "traceback": [
      "\u001b[1;31mRunning cells with 'Python 3.13.2' requires the ipykernel package.\n",
      "\u001b[1;31mRun the following command to install 'ipykernel' into the Python environment. \n",
      "\u001b[1;31mCommand: '/opt/homebrew/bin/python3 -m pip install ipykernel -U --user --force-reinstall'"
     ]
    }
   ],
   "source": [
    "arguments = ['a', 'b', 'c', 'd', 'e']\n",
    "attacks = [('a', 'c'),('c','a'),('d','b'),('d','a'),('b','d'),('b','e'),('e','b'),('e','d'),('d','e')]\n",
    "extension_pref = [('a,b'),('b','c'),('c','d'),('a','e'),('c','e')]\n",
    "votes = {\n",
    "    \"v1\": {\"a\":  1, \"b\": -1, \"c\":  0, \"d\": -1, \"e\":  1},\n",
    "    \"v2\": {\"a\":  1, \"b\":  0, \"c\":  0, \"d\": -1, \"e\":  1},\n",
    "    \"v3\": {\"a\":  1, \"b\": -1, \"c\":  0, \"d\": -1, \"e\":  1},\n",
    "    \"v4\": {\"a\": -1, \"b\":  0, \"c\":  1, \"d\":  0, \"e\":  1},\n",
    "    \"v5\": {\"a\":  1, \"b\":  0, \"c\":  0, \"d\": -1, \"e\": -1},\n",
    "    \"v6\": {\"a\":  1, \"b\":  1, \"c\":  0, \"d\": -1, \"e\": -1},\n",
    "}\n",
    "\n",
    "# Calcul des valeurs\n",
    "satisfaction = compute_satisfaction(vote, extension, arguments)\n",
    "dissatisfaction = compute_dissatisfaction(vote, extension, arguments)\n",
    "utility = compute_utility(vote, extension, arguments)\n",
    "\n",
    "print(f\"Satisfaction: {satisfaction}\")\n",
    "print(f\"Dissatisfaction: {dissatisfaction}\")\n",
    "print(f\"Utility: {utility}\")"
   ]
  },
  {
   "cell_type": "markdown",
   "metadata": {},
   "source": [
    "Défintion de la méthode V_ec(extension,all_arguments)"
   ]
  },
  {
   "cell_type": "code",
   "execution_count": null,
   "metadata": {},
   "outputs": [],
   "source": [
    "def V_ec(extension,all_arguments):\n",
    "    \"\"\" Retourne un vecteur composé d'arguments transformés en -> {1,-1}\n",
    "        1 pour l'argument s'il est compris dans l'extension\n",
    "        -1 pour l'argument s'il n'est compris dans l'extension\n",
    "    \"\"\"\n",
    "    for arg in all_arguments:\n",
    "        temp_vec = []\n",
    "        if arg in extension:\n",
    "            temp_vec.append(1)\n",
    "        else:\n",
    "            temp_vec.append(-1)\n",
    "    return temp_vec"
   ]
  }
 ],
 "metadata": {
  "kernelspec": {
   "display_name": "Python 3",
   "language": "python",
   "name": "python3"
  },
  "language_info": {
   "name": "python",
   "version": "3.13.2"
  }
 },
 "nbformat": 4,
 "nbformat_minor": 2
}
