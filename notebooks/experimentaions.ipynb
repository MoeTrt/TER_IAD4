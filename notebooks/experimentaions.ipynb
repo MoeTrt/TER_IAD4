{
 "cells": [
  {
   "cell_type": "markdown",
   "metadata": {
    "id": "Oqisi4mU5n57"
   },
   "source": [
    "Exemple d'utilisation (cas d'exmple 8 (CSS) de l'article):"
   ]
  },
  {
   "cell_type": "code",
   "execution_count": null,
   "metadata": {
    "executionInfo": {
     "elapsed": 4,
     "status": "ok",
     "timestamp": 1740064362516,
     "user": {
      "displayName": "Moe Triquet",
      "userId": "02451305724851080053"
     },
     "user_tz": -60
    },
    "id": "xoviqZd85n59"
   },
   "outputs": [
    {
     "ename": "",
     "evalue": "",
     "output_type": "error",
     "traceback": [
      "\u001b[1;31mRunning cells with 'Python 3.13.2' requires the ipykernel package.\n",
      "\u001b[1;31mRun the following command to install 'ipykernel' into the Python environment. \n",
      "\u001b[1;31mCommand: '/opt/homebrew/bin/python3 -m pip install ipykernel -U --user --force-reinstall'"
     ]
    }
   ],
   "source": [
    "arguments = ['a', 'b', 'c', 'd', 'e']\n",
    "attacks = [('a', 'c'),('c','a'),('d','b'),('d','a'),('b','d'),('b','e'),('e','b'),('e','d'),('d','e')]\n",
    "extension_pr = [('a','b'),('b','c'),('c','d'),('a','e'),('c','e')]\n",
    "votes = {\n",
    "    \"v1\": {\"a\":  1, \"b\": -1, \"c\":  0, \"d\": -1, \"e\":  1},\n",
    "    \"v2\": {\"a\":  1, \"b\":  0, \"c\":  0, \"d\": -1, \"e\":  1},\n",
    "    \"v3\": {\"a\":  1, \"b\": -1, \"c\":  0, \"d\": -1, \"e\":  1},\n",
    "    \"v4\": {\"a\": -1, \"b\":  0, \"c\":  1, \"d\":  0, \"e\":  1},\n",
    "    \"v5\": {\"a\":  1, \"b\":  0, \"c\":  0, \"d\": -1, \"e\": -1},\n",
    "    \"v6\": {\"a\":  1, \"b\":  1, \"c\":  0, \"d\": -1, \"e\": -1},\n",
    "}\n",
    "\n"
   ]
  },
  {
   "cell_type": "markdown",
   "metadata": {
    "id": "y0a_dRQ25n5-"
   },
   "source": [
    "Défintion de la méthode V_ec(extension,all_arguments)"
   ]
  },
  {
   "cell_type": "code",
   "execution_count": null,
   "metadata": {
    "executionInfo": {
     "elapsed": 6,
     "status": "ok",
     "timestamp": 1740064566026,
     "user": {
      "displayName": "Moe Triquet",
      "userId": "02451305724851080053"
     },
     "user_tz": -60
    },
    "id": "S0rWYhwe5n5_"
   },
   "outputs": [],
   "source": [
    "def V_ec(extensions, all_arguments):\n",
    "    \"\"\"\n",
    "    Retourne un dictionnaire contenant les vecteurs V_ec(E) pour plusieurs extensions.\n",
    "    extensions: Liste de tuples contenant les extensions sous forme d'ensembles d'arguments.\n",
    "    all_arguments: Liste de tous les arguments du cadre argumentatif.\n",
    "    return: Dictionnaire {extension: {argument: 1 ou -1}}\n",
    "    \"\"\"\n",
    "    vec_dict = {}\n",
    "\n",
    "    for extension in extensions:\n",
    "        vec = {}\n",
    "        for arg in all_arguments:\n",
    "            if arg in extension:\n",
    "                vec[arg] = 1\n",
    "            else:\n",
    "                vec[arg] = -1\n",
    "        vec_dict[extension] = vec\n",
    "\n",
    "    return vec_dict\n"
   ]
  },
  {
   "cell_type": "markdown",
   "metadata": {
    "id": "Wk4tZSOu6eHm"
   },
   "source": [
    "Affichage résultats"
   ]
  },
  {
   "cell_type": "code",
   "execution_count": null,
   "metadata": {
    "colab": {
     "base_uri": "https://localhost:8080/"
    },
    "executionInfo": {
     "elapsed": 5,
     "status": "ok",
     "timestamp": 1740064567888,
     "user": {
      "displayName": "Moe Triquet",
      "userId": "02451305724851080053"
     },
     "user_tz": -60
    },
    "id": "LdMkgtiC6kdz",
    "outputId": "0fbe6b19-06c2-4ce1-e054-f14c8f750db3"
   },
   "outputs": [],
   "source": [
    "vec_results = V_ec(extension_pr, arguments)\n",
    "\n",
    "for ext, vec in vec_results.items():\n",
    "    print(f\"V_ec({ext}) =\", vec)"
   ]
  },
  {
   "cell_type": "markdown",
   "metadata": {
    "id": "WQ1FD4YKAhSa"
   },
   "source": [
    "Mise en comparaison V_ec et les votes des votans pour récupérer Sv, Dv et Uv"
   ]
  },
  {
   "cell_type": "code",
   "execution_count": null,
   "metadata": {
    "executionInfo": {
     "elapsed": 5,
     "status": "ok",
     "timestamp": 1740067083227,
     "user": {
      "displayName": "Moe Triquet",
      "userId": "02451305724851080053"
     },
     "user_tz": -60
    },
    "id": "FhoFAs0wAqqk"
   },
   "outputs": [],
   "source": [
    "def compute_satisfaction(vote, vecE):\n",
    "    \"\"\"\n",
    "    Calcule la satisfaction S_v(E) d'un votant par rapport à une extension.\n",
    "    :param vote: Dictionnaire des votes {argument: -1, 0 ou 1}.\n",
    "    :param vecE: Vecteur V_ec(E) de l'extension {argument: 1 ou -1}.\n",
    "    :return: Score de satisfaction.\n",
    "    \"\"\"\n",
    "    satisfaction = 0\n",
    "    for arg, vote_value in vote.items():\n",
    "        if vote_value == vecE[arg]:\n",
    "            satisfaction += 1\n",
    "    return satisfaction\n",
    "\n",
    "def compute_dissatisfaction(vote, vecE):\n",
    "    \"\"\"\n",
    "    Calcule la dissatisfaction D_v(E) d'un votant par rapport à une extension.\n",
    "    :param vote: Dictionnaire des votes {argument: -1, 0 ou 1}.\n",
    "    :param vecE: Vecteur V_ec(E) de l'extension {argument: 1 ou -1}.\n",
    "    :return: Score de dissatisfaction (négatif).\n",
    "    \"\"\"\n",
    "    dissatisfaction = 0\n",
    "    for arg, vote_value in vote.items():\n",
    "        if vote_value == -vecE[arg]:\n",
    "            dissatisfaction -= 1\n",
    "    return dissatisfaction\n",
    "\n",
    "\n",
    "def compute_utility(vote, vecE):\n",
    "    \"\"\"\n",
    "    Calcule l'utilité U_v(E) d'un votant par rapport à une extension.\n",
    "    :param vote: Dictionnaire des votes {argument: -1, 0 ou 1}.\n",
    "    :param vecE: Vecteur V_ec(E) de l'extension {argument: 1 ou -1}.\n",
    "    :return: Score d'utilité (satisfaction + dissatisfaction).\n",
    "    \"\"\"\n",
    "    return compute_satisfaction(vote, vecE) + compute_dissatisfaction(vote, vecE)"
   ]
  },
  {
   "cell_type": "markdown",
   "metadata": {
    "id": "UZ0oC4zhGS45"
   },
   "source": [
    "Affichage résultat :"
   ]
  },
  {
   "cell_type": "code",
   "execution_count": null,
   "metadata": {
    "id": "OUtIAcs5GWlE"
   },
   "outputs": [],
   "source": []
  }
 ],
 "metadata": {
  "colab": {
   "provenance": []
  },
  "kernelspec": {
   "display_name": "Python 3",
   "language": "python",
   "name": "python3"
  },
  "language_info": {
   "name": "python",
   "version": "3.13.2"
  }
 },
 "nbformat": 4,
 "nbformat_minor": 0
}
